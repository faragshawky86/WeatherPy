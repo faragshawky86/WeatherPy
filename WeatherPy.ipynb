{
 "cells": [
  {
   "cell_type": "markdown",
   "metadata": {},
   "source": [
    "# WeatherPy\n",
    "----\n",
    "\n",
    "### Analysis\n",
    "* As expected, the weather becomes significantly warmer as one approaches the equator (0 Deg. Latitude). More interestingly, however, is the fact that the southern hemisphere tends to be warmer this time of year than the northern hemisphere. This may be due to the tilt of the earth.\n",
    "* There is no strong relationship between latitude and cloudiness. However, it is interesting to see that a strong band of cities sits at 0, 80, and 100% cloudiness.\n",
    "* There is no strong relationship between latitude and wind speed. However, in northern hemispheres there is a flurry of cities with over 20 mph of wind.\n",
    "\n",
    "---\n",
    "\n",
    "#### Note\n",
    "* Instructions have been included for each segment. You do not have to follow them exactly, but they are included to help you think through the steps."
   ]
  },
  {
   "cell_type": "code",
   "execution_count": 4,
   "metadata": {
    "scrolled": true
   },
   "outputs": [],
   "source": [
    "# Dependencies and Setup\n",
    "import matplotlib.pyplot as plt\n",
    "import pandas as pd\n",
    "import numpy as np\n",
    "import requests\n",
    "import time\n",
    "\n",
    "# Import API key\n",
    "from api_keys import api_key \n",
    "\n",
    "# Incorporated citipy to determine city based on latitude and longitude\n",
    "from citipy import citipy\n",
    "\n",
    "# Output File (CSV)\n",
    "output_data_file = \"output_data/cities.csv\"\n",
    "\n",
    "# Range of latitudes and longitudes\n",
    "lat_range = (-90, 90)\n",
    "lng_range = (-180, 180)"
   ]
  },
  {
   "cell_type": "markdown",
   "metadata": {},
   "source": [
    "## Generate Cities List"
   ]
  },
  {
   "cell_type": "code",
   "execution_count": 5,
   "metadata": {},
   "outputs": [
    {
     "data": {
      "text/plain": [
       "635"
      ]
     },
     "execution_count": 5,
     "metadata": {},
     "output_type": "execute_result"
    }
   ],
   "source": [
    "# List for holding lat_lngs and cities\n",
    "lat_lngs = []\n",
    "cities = []\n",
    "\n",
    "# Create a set of random lat and lng combinations\n",
    "lats = np.random.uniform(low=-90.000, high=90.000, size=1500)\n",
    "lngs = np.random.uniform(low=-180.000, high=180.000, size=1500)\n",
    "lat_lngs = zip(lats, lngs)\n",
    "\n",
    "# Identify nearest city for each lat, lng combination\n",
    "for lat_lng in lat_lngs:\n",
    "    city = citipy.nearest_city(lat_lng[0], lat_lng[1]).city_name\n",
    "    \n",
    "    # If the city is unique, then add it to a our cities list\n",
    "    if city not in cities:\n",
    "        cities.append(city)\n",
    "\n",
    "# Print the city count to confirm sufficient count\n",
    "len(cities)"
   ]
  },
  {
   "cell_type": "markdown",
   "metadata": {},
   "source": [
    "### Perform API Calls\n",
    "* Perform a weather check on each city using a series of successive API calls.\n",
    "* Include a print log of each city as it'sbeing processed (with the city number and city name).\n"
   ]
  },
  {
   "cell_type": "code",
   "execution_count": null,
   "metadata": {},
   "outputs": [
    {
     "name": "stdout",
     "output_type": "stream",
     "text": [
      "Processing Record 1 of 635 | oktyabrskoye\n",
      "Processing Record 2 of 635 | sawankhalok\n",
      "Processing Record 3 of 635 | bethel\n",
      "Processing Record 4 of 635 | ushuaia\n",
      "Processing Record 5 of 635 | grand gaube\n",
      "Processing Record 6 of 635 | willowmore\n",
      "Processing Record 7 of 635 | barcarena\n",
      "Processing Record 8 of 635 | salalah\n",
      "Processing Record 9 of 635 | nichinan\n",
      "Processing Record 10 of 635 | mataura\n",
      "Processing Record 11 of 635 | port alfred\n",
      "Processing Record 12 of 635 | severo-kurilsk\n",
      "Processing Record 13 of 635 | tessalit\n",
      "Processing Record 14 of 635 | ponta do sol\n",
      "Processing Record 15 of 635 | modica\n",
      "Processing Record 16 of 635 | barrow\n",
      "Processing Record 17 of 635 | cadillac\n",
      "Processing Record 18 of 635 | nortelandia\n",
      "Processing Record 19 of 635 | tocopilla\n",
      "Processing Record 20 of 635 | puerto colombia\n",
      "Processing Record 21 of 635 | clyde river\n",
      "Processing Record 22 of 635 | weligama\n",
      "Processing Record 23 of 635 | pucallpa\n",
      "Processing Record 24 of 635 | lata\n",
      "Processing Record 25 of 635 | shache\n",
      "Processing Record 26 of 635 | kahului\n",
      "Processing Record 27 of 635 | sur\n",
      "Processing Record 28 of 635 | rabak\n",
      "Processing Record 29 of 635 | lebu\n",
      "Processing Record 30 of 635 | sentyabrskiy\n",
      "City not found. Skipping...\n",
      "Processing Record 31 of 635 | sao filipe\n",
      "Processing Record 32 of 635 | pemba\n",
      "Processing Record 33 of 635 | general roca\n",
      "Processing Record 34 of 635 | nishihara\n",
      "Processing Record 35 of 635 | san cristobal\n",
      "Processing Record 36 of 635 | ahipara\n",
      "Processing Record 37 of 635 | tabiauea\n",
      "City not found. Skipping...\n",
      "Processing Record 38 of 635 | mahebourg\n",
      "Processing Record 39 of 635 | nouadhibou\n",
      "Processing Record 40 of 635 | bluff\n",
      "Processing Record 41 of 635 | half moon bay\n",
      "Processing Record 42 of 635 | elizabeth city\n",
      "Processing Record 43 of 635 | kamenka\n",
      "Processing Record 44 of 635 | punta arenas\n",
      "Processing Record 45 of 635 | kozhva\n",
      "Processing Record 46 of 635 | busselton\n",
      "Processing Record 47 of 635 | taolanaro\n",
      "City not found. Skipping...\n",
      "Processing Record 48 of 635 | ilulissat\n",
      "Processing Record 49 of 635 | luebo\n",
      "Processing Record 50 of 635 | pevek\n",
      "Processing Record 51 of 635 | show low\n",
      "Processing Record 52 of 635 | hobart\n",
      "Processing Record 53 of 635 | gurgan\n",
      "City not found. Skipping...\n",
      "Processing Record 54 of 635 | nemuro\n",
      "Processing Record 55 of 635 | luderitz\n",
      "Processing Record 56 of 635 | kapaa\n",
      "Processing Record 57 of 635 | nome\n",
      "Processing Record 58 of 635 | east stroudsburg\n",
      "Processing Record 59 of 635 | flinders\n",
      "Sleeping for a minute ZzZzZzzz\n",
      "Processing Record 60 of 635 | riyadh\n",
      "Processing Record 61 of 635 | illoqqortoormiut\n",
      "City not found. Skipping...\n",
      "Processing Record 62 of 635 | anloga\n",
      "Processing Record 63 of 635 | codrington\n",
      "Processing Record 64 of 635 | biltine\n",
      "Processing Record 65 of 635 | kavaratti\n",
      "Processing Record 66 of 635 | upernavik\n",
      "Processing Record 67 of 635 | xilagani\n",
      "Processing Record 68 of 635 | georgetown\n",
      "Processing Record 69 of 635 | spring valley\n",
      "Processing Record 70 of 635 | tamworth\n",
      "Processing Record 71 of 635 | castro\n",
      "Processing Record 72 of 635 | atuona\n",
      "Processing Record 73 of 635 | hithadhoo\n",
      "Processing Record 74 of 635 | albany\n",
      "Processing Record 75 of 635 | jamestown\n",
      "Processing Record 76 of 635 | rikitea\n",
      "Processing Record 77 of 635 | roebourne\n",
      "Processing Record 78 of 635 | daru\n",
      "Processing Record 79 of 635 | nguiu\n",
      "City not found. Skipping...\n",
      "Processing Record 80 of 635 | jaciara\n",
      "Processing Record 81 of 635 | japura\n",
      "Processing Record 82 of 635 | meulaboh\n",
      "Processing Record 83 of 635 | barbar\n",
      "City not found. Skipping...\n",
      "Processing Record 84 of 635 | mahon\n",
      "Processing Record 85 of 635 | marion\n",
      "Processing Record 86 of 635 | gat\n",
      "Processing Record 87 of 635 | san lorenzo\n",
      "Processing Record 88 of 635 | independence\n",
      "Processing Record 89 of 635 | avarua\n",
      "Processing Record 90 of 635 | ust-tsilma\n",
      "Processing Record 91 of 635 | okhotsk\n",
      "Processing Record 92 of 635 | weyburn\n",
      "Processing Record 93 of 635 | tiksi\n",
      "Processing Record 94 of 635 | pleszew\n",
      "Processing Record 95 of 635 | santiago del estero\n",
      "Processing Record 96 of 635 | novo aripuana\n",
      "Processing Record 97 of 635 | cape town\n",
      "Processing Record 98 of 635 | bosaso\n",
      "Processing Record 99 of 635 | seoul\n",
      "Processing Record 100 of 635 | provideniya\n",
      "Processing Record 101 of 635 | inirida\n",
      "Processing Record 102 of 635 | puerto ayora\n",
      "Processing Record 103 of 635 | churapcha\n",
      "Processing Record 104 of 635 | port hedland\n",
      "Processing Record 105 of 635 | sabang\n",
      "Processing Record 106 of 635 | yulara\n",
      "Processing Record 107 of 635 | louisbourg\n",
      "City not found. Skipping...\n",
      "Processing Record 108 of 635 | gidam\n",
      "Processing Record 109 of 635 | kangaatsiaq\n",
      "Processing Record 110 of 635 | san quintin\n",
      "Processing Record 111 of 635 | goure\n",
      "Processing Record 112 of 635 | meyungs\n",
      "City not found. Skipping...\n",
      "Processing Record 113 of 635 | vestmannaeyjar\n",
      "Processing Record 114 of 635 | shingu\n",
      "Processing Record 115 of 635 | vinh yen\n",
      "Processing Record 116 of 635 | new norfolk\n",
      "Processing Record 117 of 635 | ribeira grande\n",
      "Processing Record 118 of 635 | chokurdakh\n",
      "Processing Record 119 of 635 | port elizabeth\n",
      "Sleeping for a minute ZzZzZzzz\n",
      "Processing Record 120 of 635 | kushiro\n",
      "Processing Record 121 of 635 | nizhneyansk\n",
      "City not found. Skipping...\n",
      "Processing Record 122 of 635 | dikson\n",
      "Processing Record 123 of 635 | bonavista\n",
      "Processing Record 124 of 635 | bredasdorp\n",
      "Processing Record 125 of 635 | boyolangu\n",
      "Processing Record 126 of 635 | nanortalik\n",
      "Processing Record 127 of 635 | shimoda\n",
      "Processing Record 128 of 635 | asino\n",
      "Processing Record 129 of 635 | saint george\n",
      "Processing Record 130 of 635 | cherskiy\n",
      "Processing Record 131 of 635 | fuengirola\n",
      "Processing Record 132 of 635 | sokolo\n",
      "Processing Record 133 of 635 | zaysan\n",
      "Processing Record 134 of 635 | scottsbluff\n",
      "Processing Record 135 of 635 | talnakh\n",
      "Processing Record 136 of 635 | kousseri\n",
      "City not found. Skipping...\n",
      "Processing Record 137 of 635 | comodoro rivadavia\n",
      "Processing Record 138 of 635 | tuktoyaktuk\n",
      "Processing Record 139 of 635 | amderma\n",
      "City not found. Skipping...\n",
      "Processing Record 140 of 635 | geraldton\n",
      "Processing Record 141 of 635 | tyumentsevo\n",
      "Processing Record 142 of 635 | montepuez\n",
      "Processing Record 143 of 635 | hualmay\n",
      "Processing Record 144 of 635 | bambous virieux\n",
      "Processing Record 145 of 635 | torit\n",
      "City not found. Skipping...\n",
      "Processing Record 146 of 635 | dzhusaly\n",
      "City not found. Skipping...\n",
      "Processing Record 147 of 635 | port hardy\n",
      "Processing Record 148 of 635 | vitina\n",
      "Processing Record 149 of 635 | hunucma\n",
      "Processing Record 150 of 635 | mar del plata\n",
      "Processing Record 151 of 635 | hermanus\n",
      "Processing Record 152 of 635 | carnarvon\n",
      "Processing Record 153 of 635 | emba\n",
      "Processing Record 154 of 635 | kaputa\n",
      "Processing Record 155 of 635 | acri\n",
      "Processing Record 156 of 635 | ancud\n",
      "Processing Record 157 of 635 | bahia blanca\n",
      "Processing Record 158 of 635 | sovetskiy\n",
      "Processing Record 159 of 635 | khani\n",
      "Processing Record 160 of 635 | belushya guba\n",
      "City not found. Skipping...\n",
      "Processing Record 161 of 635 | barugo\n",
      "Processing Record 162 of 635 | saldanha\n",
      "Processing Record 163 of 635 | ayan\n",
      "Processing Record 164 of 635 | nikolskoye\n",
      "Processing Record 165 of 635 | mys shmidta\n",
      "City not found. Skipping...\n",
      "Processing Record 166 of 635 | butaritari\n",
      "Processing Record 167 of 635 | yushu\n",
      "Processing Record 168 of 635 | suratgarh\n",
      "Processing Record 169 of 635 | gizo\n",
      "Processing Record 170 of 635 | naze\n",
      "Processing Record 171 of 635 | saint-philippe\n",
      "Processing Record 172 of 635 | zaltan\n",
      "Processing Record 173 of 635 | necochea\n",
      "Processing Record 174 of 635 | khatanga\n",
      "Processing Record 175 of 635 | tsihombe\n",
      "City not found. Skipping...\n",
      "Processing Record 176 of 635 | barentsburg\n",
      "City not found. Skipping...\n",
      "Processing Record 177 of 635 | dabat\n",
      "Processing Record 178 of 635 | palmares\n",
      "Processing Record 179 of 635 | najran\n",
      "Sleeping for a minute ZzZzZzzz\n"
     ]
    }
   ],
   "source": [
    "cityIndex = 1\n",
    "numberOfCities= len(cities)\n",
    "# set up lists to hold reponse info\n",
    "\n",
    "cityName=[]\n",
    "cloudiness=[]\n",
    "country=[]\n",
    "date=[]\n",
    "humidity=[]\n",
    "lat = []\n",
    "lng=[]\n",
    "maxTemp = []\n",
    "windSpeed=[]\n",
    "\n",
    "for city in cities:\n",
    "    #We need to pause for a minute every 60 requests as the free API require\n",
    "    if cityIndex % 60 == 0:\n",
    "        print(\"Sleeping for a minute ZzZzZzzz\")\n",
    "        time.sleep(60)\n",
    "\n",
    "    print(f\"Processing Record {cityIndex} of {numberOfCities} | {city}\")\n",
    "    #Using the OpenWeather API to look up the weather in a particular city\n",
    "    # Build the endpoint URL\n",
    "    target_url = ('http://api.openweathermap.org/data/2.5/weather?q='\n",
    "                  '{0}&appid={1}').format(city, api_key)\n",
    "    \n",
    "    # Run a request to endpoint and convert result to json\n",
    "    weather_data = requests.get(target_url).json()\n",
    "   \n",
    "    try:\n",
    "        cityName.append(weather_data['name'])\n",
    "        cloudiness.append(weather_data['clouds']['all'])\n",
    "        country.append(weather_data['sys']['country'])\n",
    "        date.append(weather_data['dt'])\n",
    "        humidity.append(weather_data['main']['humidity'])\n",
    "        lat.append(weather_data[\"coord\"][\"lon\"]) \n",
    "        lng.append(weather_data['coord']['lon'])\n",
    "        maxTemp.append(weather_data['main']['temp_max'])\n",
    "        windSpeed.append(weather_data['wind']['speed'])\n",
    "    except:\n",
    "        print(\"City not found. Skipping...\")\n",
    "    cityIndex = cityIndex +1\n"
   ]
  },
  {
   "cell_type": "markdown",
   "metadata": {},
   "source": [
    "### Convert Raw Data to DataFrame\n",
    "* Export the city data into a .csv.\n",
    "* Display the DataFrame"
   ]
  },
  {
   "cell_type": "code",
   "execution_count": 68,
   "metadata": {},
   "outputs": [],
   "source": [
    "# create a data frame from cities, lat, and temp\n",
    "weather_dict = {\n",
    "    \"City\": cityName,\n",
    "    \"Cloudiness\": cloudiness,\n",
    "    \"Country\": country,\n",
    "    \"Date\": date,\n",
    "    \"Humidity\": humidity,\n",
    "    \"Lat\": lat,\n",
    "    \"Lng\": lng,\n",
    "    \"Max Temp\": maxTemp,\n",
    "    \"Wind Speed\": windSpeed,\n",
    "    }\n",
    "weather_data = pd.DataFrame(weather_dict)\n",
    "weather_data.head()\n",
    "weather_data.to_csv(\"Cities_weather.csv\", encoding='utf-8')"
   ]
  },
  {
   "cell_type": "markdown",
   "metadata": {},
   "source": [
    "### Plotting the Data\n",
    "* Use proper labeling of the plots using plot titles (including date of analysis) and axes labels.\n",
    "* Save the plotted figures as .pngs."
   ]
  },
  {
   "cell_type": "markdown",
   "metadata": {},
   "source": [
    "#### Latitude vs. Temperature Plot"
   ]
  },
  {
   "cell_type": "code",
   "execution_count": 77,
   "metadata": {},
   "outputs": [
    {
     "data": {
      "image/png": "[encoded data removed]",
      "text/plain": [
       "<Figure size 432x288 with 1 Axes>"
      ]
     },
     "metadata": {
      "needs_background": "light"
     },
     "output_type": "display_data"
    }
   ],
   "source": [
    "x_axis = weather_data[\"Lat\"]\n",
    "maxTemps = weather_data[\"Max Temp\"]\n",
    "\n",
    "plt.title(\"City Latitude vs Max tempurature\")\n",
    "plt.xlabel(\"Latitude\")\n",
    "plt.ylabel(\"Tempurature\")\n",
    "plt.grid(True)\n",
    "plt.scatter(x_axis, maxTemps, marker=\"o\", color=\"blue\")\n",
    "plt.show()"
   ]
  },
  {
   "cell_type": "markdown",
   "metadata": {},
   "source": [
    "#### Latitude vs. Humidity Plot"
   ]
  },
  {
   "cell_type": "code",
   "execution_count": 78,
   "metadata": {},
   "outputs": [
    {
     "data": {
      "image/png": "[encoded data removed]",
      "text/plain": [
       "<Figure size 432x288 with 1 Axes>"
      ]
     },
     "metadata": {
      "needs_background": "light"
     },
     "output_type": "display_data"
    }
   ],
   "source": [
    "x_axis = weather_data[\"Lat\"]\n",
    "maxTemps = weather_data[\"Humidity\"]\n",
    "\n",
    "plt.title(\"City Latitude vs Max Humidity\")\n",
    "plt.xlabel(\"Latitude\")\n",
    "plt.ylabel(\"Humidity\")\n",
    "plt.grid(True)\n",
    "plt.scatter(x_axis, maxTemps, marker=\"o\", color=\"blue\")\n",
    "plt.show()"
   ]
  },
  {
   "cell_type": "markdown",
   "metadata": {},
   "source": [
    "#### Latitude vs. Cloudiness Plot"
   ]
  },
  {
   "cell_type": "code",
   "execution_count": 80,
   "metadata": {},
   "outputs": [
    {
     "data": {
      "image/png": "[encoded data removed]",
      "text/plain": [
       "<Figure size 432x288 with 1 Axes>"
      ]
     },
     "metadata": {
      "needs_background": "light"
     },
     "output_type": "display_data"
    }
   ],
   "source": [
    "x_axis = weather_data[\"Lat\"]\n",
    "maxTemps = weather_data[\"Cloudiness\"]\n",
    "\n",
    "plt.title(\"City Latitude vs Max Cloudiness\")\n",
    "plt.xlabel(\"Latitude\")\n",
    "plt.ylabel(\"Cloudiness\")\n",
    "plt.grid(True)\n",
    "plt.scatter(x_axis, maxTemps, marker=\"o\", color=\"blue\")\n",
    "plt.show()"
   ]
  },
  {
   "cell_type": "markdown",
   "metadata": {},
   "source": [
    "#### Latitude vs. Wind Speed Plot"
   ]
  },
  {
   "cell_type": "code",
   "execution_count": 81,
   "metadata": {},
   "outputs": [
    {
     "data": {
      "image/png": "[encoded data removed]",
      "text/plain": [
       "<Figure size 432x288 with 1 Axes>"
      ]
     },
     "metadata": {
      "needs_background": "light"
     },
     "output_type": "display_data"
    }
   ],
   "source": [
    "x_axis = weather_data[\"Lat\"]\n",
    "maxTemps = weather_data[\"Wind Speed\"]\n",
    "\n",
    "plt.title(\"City Latitude vs Wind Speed\")\n",
    "plt.xlabel(\"Latitude\")\n",
    "plt.ylabel(\"Wind Speed\")\n",
    "plt.grid(True)\n",
    "plt.scatter(x_axis, maxTemps, marker=\"o\", color=\"blue\")\n",
    "plt.show()"
   ]
  },
  {
   "cell_type": "code",
   "execution_count": null,
   "metadata": {},
   "outputs": [],
   "source": []
  }
 ],
 "metadata": {
  "anaconda-cloud": {},
  "kernelspec": {
   "display_name": "Python 3",
   "language": "python",
   "name": "python3"
  },
  "language_info": {
   "codemirror_mode": {
    "name": "ipython",
    "version": 3
   },
   "file_extension": ".py",
   "mimetype": "text/x-python",
   "name": "python",
   "nbconvert_exporter": "python",
   "pygments_lexer": "ipython3",
   "version": "3.7.1"
  }
 },
 "nbformat": 4,
 "nbformat_minor": 2
}
